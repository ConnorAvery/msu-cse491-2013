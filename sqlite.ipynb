{
 "metadata": {
  "name": "sqlite"
 },
 "nbformat": 3,
 "nbformat_minor": 0,
 "worksheets": [
  {
   "cells": [
    {
     "cell_type": "code",
     "collapsed": false,
     "input": [
      "import sqlite3"
     ],
     "language": "python",
     "metadata": {},
     "outputs": [],
     "prompt_number": 1
    },
    {
     "cell_type": "code",
     "collapsed": false,
     "input": [
      "import os\n",
      "os.unlink('data.db')"
     ],
     "language": "python",
     "metadata": {},
     "outputs": [],
     "prompt_number": 21
    },
    {
     "cell_type": "code",
     "collapsed": false,
     "input": [
      "db = sqlite3.connect('data.db')"
     ],
     "language": "python",
     "metadata": {},
     "outputs": [],
     "prompt_number": 22
    },
    {
     "cell_type": "code",
     "collapsed": false,
     "input": [
      "c = db.cursor()"
     ],
     "language": "python",
     "metadata": {},
     "outputs": [],
     "prompt_number": 23
    },
    {
     "cell_type": "code",
     "collapsed": false,
     "input": [
      "c.execute('CREATE TABLE test (i INTEGER, j TEXT)')"
     ],
     "language": "python",
     "metadata": {},
     "outputs": [
      {
       "output_type": "pyout",
       "prompt_number": 24,
       "text": [
        "<sqlite3.Cursor at 0x10b69ef10>"
       ]
      }
     ],
     "prompt_number": 24
    },
    {
     "cell_type": "code",
     "collapsed": false,
     "input": [
      "n = 5\n",
      "m = \"some text\"\n",
      "\n",
      "c.execute('INSERT INTO test (i, j) VALUES (?, ?)', (n, m))"
     ],
     "language": "python",
     "metadata": {},
     "outputs": [
      {
       "output_type": "pyout",
       "prompt_number": 25,
       "text": [
        "<sqlite3.Cursor at 0x10b69ef10>"
       ]
      }
     ],
     "prompt_number": 25
    },
    {
     "cell_type": "code",
     "collapsed": false,
     "input": [
      "n = 12\n",
      "m = \"other Text\"\n",
      "\n",
      "c.execute('INSERT INTO test (i, j) VALUES (?, ?)', (n, m))"
     ],
     "language": "python",
     "metadata": {},
     "outputs": [
      {
       "output_type": "pyout",
       "prompt_number": 26,
       "text": [
        "<sqlite3.Cursor at 0x10b69ef10>"
       ]
      }
     ],
     "prompt_number": 26
    },
    {
     "cell_type": "code",
     "collapsed": false,
     "input": [
      "c.execute('SELECT * FROM test')"
     ],
     "language": "python",
     "metadata": {},
     "outputs": [
      {
       "output_type": "pyout",
       "prompt_number": 27,
       "text": [
        "<sqlite3.Cursor at 0x10b69ef10>"
       ]
      }
     ],
     "prompt_number": 27
    },
    {
     "cell_type": "code",
     "collapsed": false,
     "input": [
      "results = c.fetchall()\n",
      "print results"
     ],
     "language": "python",
     "metadata": {},
     "outputs": [
      {
       "output_type": "stream",
       "stream": "stdout",
       "text": [
        "[(5, u'some text'), (12, u'other Text')]\n"
       ]
      }
     ],
     "prompt_number": 28
    },
    {
     "cell_type": "code",
     "collapsed": false,
     "input": [
      "for (i, j) in results:\n",
      "    print i, j"
     ],
     "language": "python",
     "metadata": {},
     "outputs": [
      {
       "output_type": "stream",
       "stream": "stdout",
       "text": [
        "5 some text\n",
        "12 other Text\n"
       ]
      }
     ],
     "prompt_number": 29
    },
    {
     "cell_type": "code",
     "collapsed": false,
     "input": [
      "c.execute('SELECT * FROM test WHERE i=5')\n",
      "print c.fetchall()"
     ],
     "language": "python",
     "metadata": {},
     "outputs": [
      {
       "output_type": "stream",
       "stream": "stdout",
       "text": [
        "[(5, u'some text')]\n"
       ]
      }
     ],
     "prompt_number": 30
    },
    {
     "cell_type": "code",
     "collapsed": false,
     "input": [
      "c.execute('UPDATE test SET j=\\'yet more text\\' WHERE i=5')\n",
      "c.execute('SELECT * from test')\n",
      "print c.fetchall()"
     ],
     "language": "python",
     "metadata": {},
     "outputs": [
      {
       "output_type": "stream",
       "stream": "stdout",
       "text": [
        "[(5, u'yet more text'), (12, u'other Text')]\n"
       ]
      }
     ],
     "prompt_number": 31
    },
    {
     "cell_type": "code",
     "collapsed": false,
     "input": [
      "c.execute('DELETE FROM test WHERE i=5')"
     ],
     "language": "python",
     "metadata": {},
     "outputs": [
      {
       "output_type": "pyout",
       "prompt_number": 32,
       "text": [
        "<sqlite3.Cursor at 0x10b69ef10>"
       ]
      }
     ],
     "prompt_number": 32
    },
    {
     "cell_type": "code",
     "collapsed": false,
     "input": [
      "c.execute('SELECT * FROM test')\n",
      "print c.fetchall()"
     ],
     "language": "python",
     "metadata": {},
     "outputs": [
      {
       "output_type": "stream",
       "stream": "stdout",
       "text": [
        "[(12, u'other Text')]\n"
       ]
      }
     ],
     "prompt_number": 33
    },
    {
     "cell_type": "markdown",
     "metadata": {},
     "source": [
      "# Key database points --\n",
      "\n",
      "1. The database is persistent.\n",
      "2. You don't have direct access to the contents of the database; you have to go through an API or set of functions.\n",
      "2b. Corollary: the database can be Somewhere Else.  You may not know where!\n",
      "3. There can be multiple connections to the database, from multiple applications; it is the database's responsibility to stay consistent.  It is your responsibility to make sure the database stays \"correct\" :).\n",
      "4. In the case of SQL (unlike pickled objects), the database is **language agnostic**: you can access the data from multiple different languages.  (As with JSON, too.)\n",
      "5. You can have multiple tables; we'll talk about this next time.\n",
      "6. SQL database are *structured*: you define a *schema* (the set of tables and interrelations) first, and then insert/update/delete data from those tables."
     ]
    },
    {
     "cell_type": "code",
     "collapsed": false,
     "input": [],
     "language": "python",
     "metadata": {},
     "outputs": []
    }
   ],
   "metadata": {}
  }
 ]
}