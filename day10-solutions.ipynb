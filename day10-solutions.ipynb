{
 "metadata": {
  "name": "day10-solutions"
 },
 "nbformat": 3,
 "nbformat_minor": 0,
 "worksheets": [
  {
   "cells": [
    {
     "cell_type": "code",
     "collapsed": false,
     "input": [
      "# Create a Python tuple containing 3 values, 5, 10, and 'b', in that order.\n",
      "x = (5, 10, 'b')\n",
      "\n",
      "print x\n",
      "type(x)\n",
      "\n",
      "# a really useful side note: if you want the internal representation that Python uses, print things\n",
      "# as a tuple\n",
      "a = 5\n",
      "b = '5'\n",
      "print (a,)\n",
      "print (b,)"
     ],
     "language": "python",
     "metadata": {},
     "outputs": [
      {
       "output_type": "stream",
       "stream": "stdout",
       "text": [
        "(5, 10, 'b')\n",
        "(5,)\n",
        "('5',)\n"
       ]
      }
     ],
     "prompt_number": 4
    },
    {
     "cell_type": "code",
     "collapsed": false,
     "input": [
      "# Retrieve the value from the above tuple at index 1.\n",
      "x[1]"
     ],
     "language": "python",
     "metadata": {},
     "outputs": [
      {
       "output_type": "pyout",
       "prompt_number": 5,
       "text": [
        "10"
       ]
      }
     ],
     "prompt_number": 5
    },
    {
     "cell_type": "code",
     "collapsed": false,
     "input": [
      "# How would you add 4 to the value stored at index 1 in the above tuple?\n",
      "x = (5, 10, 'b')\n",
      "\n",
      "x = list(x)\n",
      "x[1] += 4\n",
      "x = tuple(x)\n",
      "print x"
     ],
     "language": "python",
     "metadata": {},
     "outputs": [
      {
       "output_type": "stream",
       "stream": "stdout",
       "text": [
        "(5, 14, 'b')\n"
       ]
      }
     ],
     "prompt_number": 11
    },
    {
     "cell_type": "code",
     "collapsed": false,
     "input": [
      "# Create a Python list containing 3 values, 5, 10, and 'b', in that order.\n",
      "x = [5,10,'b']\n"
     ],
     "language": "python",
     "metadata": {},
     "outputs": [],
     "prompt_number": 12
    },
    {
     "cell_type": "code",
     "collapsed": false,
     "input": [
      "# Retrieve the value from the above list at index 1 and store it in a variable 'xx'.\n",
      "xx = x[1]"
     ],
     "language": "python",
     "metadata": {},
     "outputs": [],
     "prompt_number": 13
    },
    {
     "cell_type": "code",
     "collapsed": false,
     "input": [
      "# Add 4 to the value stored at index 1 in the above list\n",
      "x[1] += 4\n"
     ],
     "language": "python",
     "metadata": {},
     "outputs": [],
     "prompt_number": 14
    },
    {
     "cell_type": "code",
     "collapsed": false,
     "input": [
      "# Create a dictionary with (key, value) pairs (4, 'b'), ('6', 5), and ('fiz', 9).\n",
      "z = dict([(4, 'b'), ('6', 5), ('fiz', 9)])\n",
      "# OR\n",
      "z = {4: 'b', '6': 5, 'fiz': 9}"
     ],
     "language": "python",
     "metadata": {},
     "outputs": [],
     "prompt_number": 17
    },
    {
     "cell_type": "code",
     "collapsed": false,
     "input": [
      "# Retrieve the value associated with the key 'fiz' in the above dictionary.\n",
      "z['fiz']"
     ],
     "language": "python",
     "metadata": {},
     "outputs": [
      {
       "output_type": "pyout",
       "prompt_number": 18,
       "text": [
        "9"
       ]
      }
     ],
     "prompt_number": 18
    },
    {
     "cell_type": "code",
     "collapsed": false,
     "input": [
      "# Add four to the value associated with the key 'fiz' in the above dictionary.\n",
      "z['fiz'] += 4"
     ],
     "language": "python",
     "metadata": {},
     "outputs": [],
     "prompt_number": 19
    },
    {
     "cell_type": "code",
     "collapsed": false,
     "input": [
      "# Iteratively print out all keys in the above dictionary (in a for loop).\n",
      "for key in z:\n",
      "    print (key,) # print out using tuple to get type information"
     ],
     "language": "python",
     "metadata": {},
     "outputs": [
      {
       "output_type": "stream",
       "stream": "stdout",
       "text": [
        "('fiz',)\n",
        "(4,)\n",
        "('6',)\n"
       ]
      }
     ],
     "prompt_number": 23
    },
    {
     "cell_type": "code",
     "collapsed": false,
     "input": [
      "# Iteratively print out all of the values in the above dictionary (in a for loop).\n",
      "for key in z:\n",
      "    print (z[key],)\n",
      "# for value in z.values(): etc."
     ],
     "language": "python",
     "metadata": {},
     "outputs": [
      {
       "output_type": "stream",
       "stream": "stdout",
       "text": [
        "(13,)\n",
        "('b',)\n",
        "(5,)\n"
       ]
      }
     ],
     "prompt_number": 26
    },
    {
     "cell_type": "code",
     "collapsed": false,
     "input": [
      "# del z['fiz']\n",
      "z.pop('fiz')"
     ],
     "language": "python",
     "metadata": {},
     "outputs": [
      {
       "output_type": "pyout",
       "prompt_number": 27,
       "text": [
        "13"
       ]
      }
     ],
     "prompt_number": 27
    },
    {
     "cell_type": "code",
     "collapsed": false,
     "input": [
      "# Create a set and add values 5, 10, and 'b' to it.\n",
      "a = set([5, 10, 'b', 10])\n",
      "print a"
     ],
     "language": "python",
     "metadata": {},
     "outputs": [
      {
       "output_type": "stream",
       "stream": "stdout",
       "text": [
        "set([10, 'b', 5])\n"
       ]
      }
     ],
     "prompt_number": 29
    },
    {
     "cell_type": "code",
     "collapsed": false,
     "input": [
      "# or create an empty set and add stuff to it\n",
      "a = set()\n",
      "a.add(5)\n",
      "a.add(10)\n",
      "a.add('b')"
     ],
     "language": "python",
     "metadata": {},
     "outputs": [],
     "prompt_number": 30
    },
    {
     "cell_type": "code",
     "collapsed": false,
     "input": [
      "for value in a:\n",
      "    print (value,)"
     ],
     "language": "python",
     "metadata": {},
     "outputs": [
      {
       "output_type": "stream",
       "stream": "stdout",
       "text": [
        "(10,)\n",
        "('b',)\n",
        "(5,)\n"
       ]
      }
     ],
     "prompt_number": 31
    },
    {
     "cell_type": "code",
     "collapsed": false,
     "input": [
      "### on to form 2"
     ],
     "language": "python",
     "metadata": {},
     "outputs": [],
     "prompt_number": 32
    },
    {
     "cell_type": "code",
     "collapsed": false,
     "input": [
      "# Create an empty set 'x', and add a tuple ('foo', 'bar') to it.\n",
      "x = set()\n",
      "x.add(('foo', 'bar'))\n",
      "x.add(('fiz', 'bif'))"
     ],
     "language": "python",
     "metadata": {},
     "outputs": [],
     "prompt_number": 35
    },
    {
     "cell_type": "code",
     "collapsed": false,
     "input": [
      "print x\n"
     ],
     "language": "python",
     "metadata": {},
     "outputs": [
      {
       "output_type": "stream",
       "stream": "stdout",
       "text": [
        "set([('fiz', 'bif'), ('foo', 'bar')])\n"
       ]
      }
     ],
     "prompt_number": 36
    },
    {
     "cell_type": "code",
     "collapsed": false,
     "input": [
      "# Write an 'if' statement that checks to see if 'x' has the tuple ('foo', 'bar') in it\n",
      "if ('foo', 'bar') in x:\n",
      "    print 'yes'"
     ],
     "language": "python",
     "metadata": {},
     "outputs": [
      {
       "output_type": "stream",
       "stream": "stdout",
       "text": [
        "yes\n"
       ]
      }
     ],
     "prompt_number": 37
    },
    {
     "cell_type": "code",
     "collapsed": false,
     "input": [
      "# Add two more tuples (5, 6) and ('7', 8) to set 'x'.\n",
      "x.add((5,6))\n",
      "x.add(('7', 8))\n",
      "print x"
     ],
     "language": "python",
     "metadata": {},
     "outputs": [
      {
       "output_type": "stream",
       "stream": "stdout",
       "text": [
        "set([(5, 6), ('fiz', 'bif'), ('foo', 'bar'), ('7', 8)])\n"
       ]
      }
     ],
     "prompt_number": 38
    },
    {
     "cell_type": "code",
     "collapsed": false,
     "input": [
      "# Write a 'for' loop to print out all tuples in set 'x'.\n",
      "for value in x:\n",
      "    a, b = value\n",
      "    print (a, b)"
     ],
     "language": "python",
     "metadata": {},
     "outputs": [
      {
       "output_type": "stream",
       "stream": "stdout",
       "text": [
        "(5, 6)\n",
        "('fiz', 'bif')\n",
        "('foo', 'bar')\n",
        "('7', 8)\n"
       ]
      }
     ],
     "prompt_number": 43
    },
    {
     "cell_type": "code",
     "collapsed": false,
     "input": [
      "# Write a 'for' loop to print out the value at the first index (index 0) for all tuples in the set 'x'.\n",
      "print x\n",
      "for value in x:\n",
      "    print value[0]"
     ],
     "language": "python",
     "metadata": {},
     "outputs": [
      {
       "output_type": "stream",
       "stream": "stdout",
       "text": [
        "set([(5, 6), ('fiz', 'bif'), ('foo', 'bar'), ('7', 8)])\n",
        "5\n",
        "fiz\n",
        "foo\n",
        "7\n"
       ]
      }
     ],
     "prompt_number": 44
    },
    {
     "cell_type": "code",
     "collapsed": false,
     "input": [
      "# Create an empty dictionary 'z', and associate the key (5,6,7) with the value True in 'z'.\n",
      "z = {}\n",
      "z[(5,6,7)] = True"
     ],
     "language": "python",
     "metadata": {},
     "outputs": [],
     "prompt_number": 45
    },
    {
     "cell_type": "code",
     "collapsed": false,
     "input": [
      "# Likewise, add a key (4, 5) with the value 'zipcar'.\n",
      "z[(4,5)] = 'zipcar'"
     ],
     "language": "python",
     "metadata": {},
     "outputs": [],
     "prompt_number": 46
    },
    {
     "cell_type": "code",
     "collapsed": false,
     "input": [
      "# Write a for loop to print out all keys in 'z'.\n",
      "for key in z:\n",
      "    print (key,)\n",
      "    \n",
      "# if you want to sort the keys,\n",
      "for key in sorted(z):\n",
      "    print (key,)"
     ],
     "language": "python",
     "metadata": {},
     "outputs": [
      {
       "output_type": "stream",
       "stream": "stdout",
       "text": [
        "((4, 5),)\n",
        "((5, 6, 7),)\n",
        "((4, 5),)\n",
        "((5, 6, 7),)\n"
       ]
      }
     ],
     "prompt_number": 48
    },
    {
     "cell_type": "code",
     "collapsed": false,
     "input": [
      "# Write a for loop to print out all values in 'z'.\n",
      "for key in z:\n",
      "    print z[key]\n",
      "    \n",
      "# for value in z.values():"
     ],
     "language": "python",
     "metadata": {},
     "outputs": [
      {
       "output_type": "stream",
       "stream": "stdout",
       "text": [
        "zipcar\n",
        "True\n"
       ]
      }
     ],
     "prompt_number": 49
    },
    {
     "cell_type": "code",
     "collapsed": false,
     "input": [
      "# Write a for loop to print out the first component (value at index 0) of all keys in 'z'.\n",
      "for key in z:\n",
      "    print key[0]"
     ],
     "language": "python",
     "metadata": {},
     "outputs": [
      {
       "output_type": "stream",
       "stream": "stdout",
       "text": [
        "4\n",
        "5\n"
       ]
      }
     ],
     "prompt_number": 50
    },
    {
     "cell_type": "code",
     "collapsed": false,
     "input": [],
     "language": "python",
     "metadata": {},
     "outputs": []
    }
   ],
   "metadata": {}
  }
 ]
}