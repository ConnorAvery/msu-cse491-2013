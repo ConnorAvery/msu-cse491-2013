{
 "metadata": {
  "name": "sqlite-transactions"
 },
 "nbformat": 3,
 "nbformat_minor": 0,
 "worksheets": [
  {
   "cells": [
    {
     "cell_type": "code",
     "collapsed": false,
     "input": [
      "help(sqlite3.connect)"
     ],
     "language": "python",
     "metadata": {},
     "outputs": [
      {
       "output_type": "stream",
       "stream": "stdout",
       "text": [
        "Help on built-in function connect in module _sqlite3:\n",
        "\n",
        "connect(...)\n",
        "    connect(database[, timeout, isolation_level, detect_types, factory])\n",
        "    \n",
        "    Opens a connection to the SQLite database file *database*. You can use\n",
        "    \":memory:\" to open a database connection to a database that resides in\n",
        "    RAM instead of on disk.\n",
        "\n"
       ]
      }
     ],
     "prompt_number": 76
    },
    {
     "cell_type": "code",
     "collapsed": false,
     "input": [
      "import sqlite3, os\n",
      "\n",
      "try:\n",
      "    os.unlink('transactions.db')\n",
      "except OSError:\n",
      "    pass\n",
      "\n",
      "db = sqlite3.connect('transactions.db', isolation_level=\"EXCLUSIVE\")"
     ],
     "language": "python",
     "metadata": {},
     "outputs": [],
     "prompt_number": 77
    },
    {
     "cell_type": "code",
     "collapsed": false,
     "input": [
      "c = db.cursor()\n"
     ],
     "language": "python",
     "metadata": {},
     "outputs": [],
     "prompt_number": 78
    },
    {
     "cell_type": "markdown",
     "metadata": {},
     "source": [
      "## Constraints\n",
      "\n",
      "Constraints are things that must be satisfied by a particular column in the table."
     ]
    },
    {
     "cell_type": "code",
     "collapsed": false,
     "input": [
      "c.execute('''CREATE TABLE accounts (id INTEGER PRIMARY KEY,\n",
      "                                    name TEXT NOT NULL,\n",
      "                                    balance FLOAT CHECK (balance >= 0))''')"
     ],
     "language": "python",
     "metadata": {},
     "outputs": [
      {
       "output_type": "pyout",
       "prompt_number": 79,
       "text": [
        "<sqlite3.Cursor at 0x109ebab20>"
       ]
      }
     ],
     "prompt_number": 79
    },
    {
     "cell_type": "code",
     "collapsed": false,
     "input": [
      "c.execute('INSERT INTO accounts (name, balance) VALUES (?, ?)', ('test', -100))"
     ],
     "language": "python",
     "metadata": {},
     "outputs": [
      {
       "ename": "IntegrityError",
       "evalue": "constraint failed",
       "output_type": "pyerr",
       "traceback": [
        "\u001b[0;31m---------------------------------------------------------------------------\u001b[0m\n\u001b[0;31mIntegrityError\u001b[0m                            Traceback (most recent call last)",
        "\u001b[0;32m<ipython-input-80-b90269408dd7>\u001b[0m in \u001b[0;36m<module>\u001b[0;34m()\u001b[0m\n\u001b[0;32m----> 1\u001b[0;31m \u001b[0mc\u001b[0m\u001b[0;34m.\u001b[0m\u001b[0mexecute\u001b[0m\u001b[0;34m(\u001b[0m\u001b[0;34m'INSERT INTO accounts (name, balance) VALUES (?, ?)'\u001b[0m\u001b[0;34m,\u001b[0m \u001b[0;34m(\u001b[0m\u001b[0;34m'test'\u001b[0m\u001b[0;34m,\u001b[0m \u001b[0;34m-\u001b[0m\u001b[0;36m100\u001b[0m\u001b[0;34m)\u001b[0m\u001b[0;34m)\u001b[0m\u001b[0;34m\u001b[0m\u001b[0m\n\u001b[0m",
        "\u001b[0;31mIntegrityError\u001b[0m: constraint failed"
       ]
      }
     ],
     "prompt_number": 80
    },
    {
     "cell_type": "markdown",
     "metadata": {},
     "source": [
      "## Transactions\n",
      "\n",
      "Transactions are blocks of commands that must all succeed in order for any of them to succeed."
     ]
    },
    {
     "cell_type": "code",
     "collapsed": false,
     "input": [
      "c.execute('INSERT INTO accounts (name, balance) VALUES (?, ?)', ('a', 100))\n",
      "c.execute('INSERT INTO accounts (name, balance) VALUES (?, ?)', ('b', 0))\n",
      "\n",
      "c.execute('SELECT * FROM accounts')\n",
      "print c.fetchall()"
     ],
     "language": "python",
     "metadata": {},
     "outputs": [
      {
       "output_type": "stream",
       "stream": "stdout",
       "text": [
        "[(1, u'a', 100.0), (2, u'b', 0.0)]\n"
       ]
      }
     ],
     "prompt_number": 81
    },
    {
     "cell_type": "code",
     "collapsed": false,
     "input": [
      "db.commit() # after this point, 'accounts' is available to other observers of the database, too."
     ],
     "language": "python",
     "metadata": {},
     "outputs": [],
     "prompt_number": 82
    },
    {
     "cell_type": "code",
     "collapsed": false,
     "input": [
      "c.execute('UPDATE accounts SET balance = 50 WHERE id=1')"
     ],
     "language": "python",
     "metadata": {},
     "outputs": [
      {
       "output_type": "pyout",
       "prompt_number": 83,
       "text": [
        "<sqlite3.Cursor at 0x109ebab20>"
       ]
      }
     ],
     "prompt_number": 83
    },
    {
     "cell_type": "code",
     "collapsed": false,
     "input": [
      "c.execute('UPDATE accounts SET balance = 50 WHERE id=2')"
     ],
     "language": "python",
     "metadata": {},
     "outputs": [
      {
       "output_type": "pyout",
       "prompt_number": 84,
       "text": [
        "<sqlite3.Cursor at 0x109ebab20>"
       ]
      }
     ],
     "prompt_number": 84
    },
    {
     "cell_type": "code",
     "collapsed": false,
     "input": [
      "db.commit()"
     ],
     "language": "python",
     "metadata": {},
     "outputs": [],
     "prompt_number": 85
    },
    {
     "cell_type": "code",
     "collapsed": false,
     "input": [
      "c.execute('SELECT * FROM accounts')\n",
      "print c.fetchall()"
     ],
     "language": "python",
     "metadata": {},
     "outputs": [
      {
       "output_type": "stream",
       "stream": "stdout",
       "text": [
        "[(1, u'a', 50.0), (2, u'b', 50.0)]\n"
       ]
      }
     ],
     "prompt_number": 86
    },
    {
     "cell_type": "code",
     "collapsed": false,
     "input": [
      "c.execute('BEGIN')\n",
      "try:\n",
      "    c.execute('UPDATE accounts SET balance = 150 WHERE id=2')\n",
      "    c.execute('UPDATE accounts SET balance = -50 WHERE id=1')\n",
      "except sqlite3.IntegrityError:\n",
      "    db.rollback() # undo transaction, roll back any associated changes."
     ],
     "language": "python",
     "metadata": {},
     "outputs": [],
     "prompt_number": 87
    },
    {
     "cell_type": "code",
     "collapsed": false,
     "input": [
      "c.execute('SELECT * FROM accounts')\n",
      "print c.fetchall()"
     ],
     "language": "python",
     "metadata": {},
     "outputs": [
      {
       "output_type": "stream",
       "stream": "stdout",
       "text": [
        "[(1, u'a', 50.0), (2, u'b', 50.0)]\n"
       ]
      }
     ],
     "prompt_number": 88
    },
    {
     "cell_type": "code",
     "collapsed": false,
     "input": [],
     "language": "python",
     "metadata": {},
     "outputs": [],
     "prompt_number": 88
    }
   ],
   "metadata": {}
  }
 ]
}